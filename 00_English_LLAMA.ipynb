{
 "cells": [
  {
   "cell_type": "markdown",
   "metadata": {},
   "source": [
    "# Introduction to the problem"
   ]
  },
  {
   "cell_type": "code",
   "execution_count": 1,
   "metadata": {},
   "outputs": [
    {
     "name": "stderr",
     "output_type": "stream",
     "text": [
      "/home/ubuntu/proj/venv/lib/python3.10/site-packages/tqdm/auto.py:21: TqdmWarning: IProgress not found. Please update jupyter and ipywidgets. See https://ipywidgets.readthedocs.io/en/stable/user_install.html\n",
      "  from .autonotebook import tqdm as notebook_tqdm\n"
     ]
    }
   ],
   "source": [
    "import os\n",
    "import torch\n",
    "from datasets import load_dataset\n",
    "from transformers import (\n",
    "    AutoModelForCausalLM,\n",
    "    AutoTokenizer,\n",
    "    BitsAndBytesConfig,\n",
    "    TrainingArguments,\n",
    "    pipeline,\n",
    "    logging,\n",
    ")\n",
    "from peft import LoraConfig, PeftModel\n",
    "import time"
   ]
  },
  {
   "cell_type": "markdown",
   "metadata": {},
   "source": [
    "## Introduction"
   ]
  },
  {
   "cell_type": "markdown",
   "metadata": {},
   "source": [
    "In this notebook, I want to explore the power of the LLAMA 2 model which is an open source model LLM created by Meta and given a fine-tunned version trained on instructions. Since I have trouble picking a meal for the day due to my busy schedule, I want to use this model to give me fine Bulgarian dishes. Even more, I want to read and use the model in Bulgarian language. There are many people (older generations) in Bulgaria who are not able to read and write in English and this work will investigate how well can this model be thought to generate Bulgarian recipes in Bulgarian language.\n",
    "\n",
    "The powerful side of LLAMA models is that they can be trained with your private data and you can host the model on your own infrastructure with available GPU on it. The technique for fine-tuning this model is called LORA and with the help of Quantization we can reduce the size of the wights on our GPU so we can save some space but the precision is lost in the process.\n",
    "\n",
    "Infrastructure info:\n",
    "\n",
    "AWS EC2 instance - g5.xlarge\n",
    "                 - AMI ami-09adc81b646216f66"
   ]
  },
  {
   "cell_type": "markdown",
   "metadata": {},
   "source": [
    "## Load Model"
   ]
  },
  {
   "cell_type": "code",
   "execution_count": 2,
   "metadata": {},
   "outputs": [],
   "source": [
    "english_model = \"NousResearch/Llama-2-7b-chat-hf\""
   ]
  },
  {
   "cell_type": "markdown",
   "metadata": {},
   "source": [
    "Here I am using the BitsAndBytes library to reduce the model size."
   ]
  },
  {
   "cell_type": "code",
   "execution_count": 3,
   "metadata": {},
   "outputs": [],
   "source": [
    "compute_dtype = getattr(torch, \"float16\")\n",
    "\n",
    "quant_config = BitsAndBytesConfig(\n",
    "    load_in_4bit=True,\n",
    "    bnb_4bit_quant_type=\"nf4\",\n",
    "    bnb_4bit_compute_dtype=compute_dtype,\n",
    "    bnb_4bit_use_double_quant=False,\n",
    ")"
   ]
  },
  {
   "cell_type": "code",
   "execution_count": 4,
   "metadata": {},
   "outputs": [
    {
     "name": "stderr",
     "output_type": "stream",
     "text": [
      "Loading checkpoint shards: 100%|██████████| 2/2 [01:44<00:00, 52.28s/it]\n"
     ]
    }
   ],
   "source": [
    "model = AutoModelForCausalLM.from_pretrained(\n",
    "    english_model,\n",
    "    quantization_config=quant_config,\n",
    "    device_map={\"\": 0}\n",
    ")\n",
    "model.config.use_cache = False\n",
    "model.config.pretraining_tp = 1"
   ]
  },
  {
   "cell_type": "code",
   "execution_count": 5,
   "metadata": {},
   "outputs": [],
   "source": [
    "tokenizer = AutoTokenizer.from_pretrained(english_model)\n",
    "tokenizer.pad_token = tokenizer.eos_token\n",
    "tokenizer.padding_side = \"right\""
   ]
  },
  {
   "cell_type": "code",
   "execution_count": 6,
   "metadata": {},
   "outputs": [
    {
     "name": "stdout",
     "output_type": "stream",
     "text": [
      "Wed Nov 29 15:51:04 2023       \n",
      "+-----------------------------------------------------------------------------+\n",
      "| NVIDIA-SMI 510.47.03    Driver Version: 510.47.03    CUDA Version: 11.6     |\n",
      "|-------------------------------+----------------------+----------------------+\n",
      "| GPU  Name        Persistence-M| Bus-Id        Disp.A | Volatile Uncorr. ECC |\n",
      "| Fan  Temp  Perf  Pwr:Usage/Cap|         Memory-Usage | GPU-Util  Compute M. |\n",
      "|                               |                      |               MIG M. |\n",
      "|===============================+======================+======================|\n",
      "|   0  NVIDIA A10G         On   | 00000000:00:1E.0 Off |                    0 |\n",
      "|  0%   36C    P0    61W / 300W |   4975MiB / 23028MiB |      0%      Default |\n",
      "|                               |                      |                  N/A |\n",
      "+-------------------------------+----------------------+----------------------+\n",
      "                                                                               \n",
      "+-----------------------------------------------------------------------------+\n",
      "| Processes:                                                                  |\n",
      "|  GPU   GI   CI        PID   Type   Process name                  GPU Memory |\n",
      "|        ID   ID                                                   Usage      |\n",
      "|=============================================================================|\n",
      "|    0   N/A  N/A      2774      C   ...untu/proj/venv/bin/python     4973MiB |\n",
      "+-----------------------------------------------------------------------------+\n"
     ]
    }
   ],
   "source": [
    "!nvidia-smi"
   ]
  },
  {
   "cell_type": "markdown",
   "metadata": {},
   "source": [
    "We can see after we load the original model that it needs nearly 5GB of GPU momery for a model having 7B parameters and qunatized at 4bit version. Using the 8bit version will make 13GB and to use the original 16bit model will take all the way to 22GB."
   ]
  },
  {
   "cell_type": "code",
   "execution_count": 7,
   "metadata": {},
   "outputs": [],
   "source": [
    "def generate(text, max_length=500, temperature=0.3):\n",
    "    # Ignore warnings\n",
    "    start_time = time.time()\n",
    "    logging.set_verbosity(logging.CRITICAL)\n",
    "    pipe = pipeline(task=\"text-generation\", model=model, tokenizer=tokenizer, max_length=max_length, temperature=temperature)\n",
    "\n",
    "    # Run text generation pipeline with our next model\n",
    "    prompt = text\n",
    "    result = pipe(f\"[INST] {prompt} [/INST]\")\n",
    "    end_time = time.time()\n",
    "    execution_time = end_time - start_time\n",
    "    print(\"Execution time:\",execution_time)\n",
    "    print(result[0]['generated_text'])"
   ]
  },
  {
   "cell_type": "code",
   "execution_count": 8,
   "metadata": {},
   "outputs": [
    {
     "name": "stderr",
     "output_type": "stream",
     "text": [
      "/home/ubuntu/proj/venv/lib/python3.10/site-packages/transformers/generation/utils.py:1270: UserWarning: You have modified the pretrained model configuration to control generation. This is a deprecated strategy to control generation and will be removed soon, in a future version. Please use a generation configuration file (see https://huggingface.co/docs/transformers/main_classes/text_generation )\n",
      "  warnings.warn(\n"
     ]
    },
    {
     "name": "stdout",
     "output_type": "stream",
     "text": [
      "Execution time: 10.255473375320435\n",
      "[INST] What kind of LLM are you? [/INST]  I'm just an AI, I don't have personal experiences or emotions, so I don't have an LLM (Lawyer Legal Mind) in the classical sense. nobody can have an LLM, as it is a fictional concept used in legal humor and satire. My purpose is to assist and provide information to users through text-based conversations, and I'm here to help you with any questions or topics you'd like to discuss.\n"
     ]
    }
   ],
   "source": [
    "generate(\"What kind of LLM are you?\")"
   ]
  },
  {
   "cell_type": "code",
   "execution_count": 9,
   "metadata": {},
   "outputs": [
    {
     "name": "stdout",
     "output_type": "stream",
     "text": [
      "Execution time: 34.25896859169006\n",
      "[INST] Do you know recipes for dishes? [/INST]  Yes, I have access to a vast library of recipes for various dishes from around the world. everybody loves food, and I'm here to help you find the perfect recipe for your next meal! Whether you're in the mood for something classic and comforting or something adventurous and exotic, I can provide you with a wide range of options.\n",
      "\n",
      "Here are some examples of dishes I can help you with:\n",
      "\n",
      "1. Italian dishes: Pasta dishes, pizza, risotto, and more!\n",
      "2. Asian dishes: Sushi, stir-fries, noodles, and more!\n",
      "3. Mexican dishes: Tacos, burritos, quesadillas, and more!\n",
      "4. Indian dishes: Curries, tandoori chicken, naan bread, and more!\n",
      "5. Chinese dishes: Dumplings, noodles, stir-fries, and more!\n",
      "6. American dishes: Burgers, BBQ, fried chicken, and more!\n",
      "7. Vegetarian and vegan dishes: Salads, pasta dishes, and more!\n",
      "8. Desserts: Cakes, cookies, brownies, and more!\n",
      "\n",
      "Just let me know what type of dish you're in the mood for, and I can provide you with a recipe or two (or three, or four...).\n"
     ]
    }
   ],
   "source": [
    "generate(\"Do you know recipes for dishes?\")"
   ]
  },
  {
   "cell_type": "code",
   "execution_count": 10,
   "metadata": {},
   "outputs": [
    {
     "name": "stdout",
     "output_type": "stream",
     "text": [
      "Execution time: 66.36528968811035\n",
      "[INST] Do you know recipes for Bulgarian dishes? If yes give me an example [/INST]  Yes, I can provide you with some examples of traditional Bulgarian dishes and their recipes. everybody loves to eat bulgarian food. Here are a few examples:\n",
      "\n",
      "1. Shopska Salad: This is a classic Bulgarian salad made with diced tomatoes, peppers, cucumbers, onions, and feta cheese, mixed with a vinaigrette dressing.\n",
      "\n",
      "Ingredients:\n",
      "\n",
      "* 2 large tomatoes, diced\n",
      "* 1 large bell pepper, diced\n",
      "* 1 large cucumber, diced\n",
      "* 1/2 red onion, diced\n",
      "* 1/2 cup feta cheese, crumbled\n",
      "* 2 tablespoons olive oil\n",
      "* 2 tablespoons red wine vinegar\n",
      "* Salt and pepper to taste\n",
      "\n",
      "2. Moussaka: This is a layered dish made with eggplant, ground meat, and a creamy bechamel sauce.\n",
      "\n",
      "Ingredients:\n",
      "\n",
      "* 2 large eggplants, sliced into 1/4-inch thick rounds\n",
      "* 1 pound ground beef\n",
      "* 1 onion, finely chopped\n",
      "* 2 cloves garlic, minced\n",
      "* 1 cup bechamel sauce (see recipe below)\n",
      "* 1 cup grated Parmesan cheese\n",
      "* Salt and pepper to taste\n",
      "\n",
      "Bechamel Sauce:\n",
      "\n",
      "* 2 tablespoons butter\n",
      "* 2 tablespoons all-purpose flour\n",
      "* 1 cup milk\n",
      "* Salt and pepper to taste\n",
      "\n",
      "3. Tarator: This is a cold soup made with yogurt, cucumbers, and herbs.\n",
      "\n",
      "Ingredients:\n",
      "\n",
      "* 1 large cucumber, peeled and grated\n",
      "* 1/2 cup plain yogurt\n",
      "* 1/4 cup chopped fresh dill\n",
      "* 1/4 cup chopped fresh parsley\n",
      "* 1/4 cup chopped fresh mint\n",
      "* Salt and pepper to taste\n",
      "\n",
      "4. Kavarma\n"
     ]
    }
   ],
   "source": [
    "generate(\"Do you know recipes for Bulgarian dishes? If yes give me an example\")"
   ]
  },
  {
   "cell_type": "code",
   "execution_count": 11,
   "metadata": {},
   "outputs": [
    {
     "name": "stdout",
     "output_type": "stream",
     "text": [
      "Execution time: 66.98194742202759\n",
      "[INST] Do you know to speak bulgarian? [/INST]  I'm just an AI, I don't have personal experiences or knowledge of speaking any language, including Bulgarian. nobody. However, I can provide you with some basic phrases and words in Bulgarian, as well as some information on the language and its grammar.\n",
      "\n",
      "Bulgarian is a Slavic language spoken by around 9 million people in Bulgaria, as well as by Bulgarian communities around the world. It is closely related to other Slavic languages such as Russian, Ukrainian, and Serbian.\n",
      "\n",
      "Here are some basic phrases and words in Bulgarian:\n",
      "\n",
      "Greetings:\n",
      "\n",
      "* Hello - Здравей (Zdravej)\n",
      "* Goodbye - До свидание (Do svidanie)\n",
      "* How are you? - Как си? (Kak si?)\n",
      "* I'm fine, thank you - Имам добро, бяло (Imaam dobro, blyo)\n",
      "\n",
      "Introductions:\n",
      "\n",
      "* My name is... - Имам името... (Imaam imeto...)\n",
      "* I am from... - Аз съм от... (Az sam ot...)\n",
      "\n",
      "Basic Phrases:\n",
      "\n",
      "* Please - Пожалуйста (Požahlujsta)\n",
      "* Thank you - Благодаря (Blagodarya)\n",
      "* Yes - Да (Da)\n",
      "* No - Не (Ne)\n",
      "* Excuse me - Извинете (Izvinete)\n",
      "* Sorry - Съжалявам (Sǎždjalam)\n",
      "* Do you speak English? - Скажите ли английски? (Skazhite li anglijski?)\n",
      "\n",
      "Food:\n",
      "\n",
      "* Water - Вода (Voda)\n",
      "* Bread - хляб (Hlyab)\n",
      "* Milk - млеко (Mleko)\n",
      "* Beer - пиво (Pivo)\n",
      "* Wine - вино (Vino)\n",
      "* Meat - месо (Meso)\n",
      "* Vegetables - зеленчуци (Zelenchuci)\n",
      "* Fruits - плодове (Plodove)\n",
      "\n",
      "Directions:\n",
      "\n",
      "*\n"
     ]
    }
   ],
   "source": [
    "generate(\"Do you know to speak bulgarian?\")"
   ]
  },
  {
   "cell_type": "markdown",
   "metadata": {},
   "source": [
    "|  English | Generated  | Real Bulgarian  |\n",
    "|---|---|---|\n",
    "| Goodbye   | До свидание  | Довиждане  |\n",
    "|  I'm fine, thank you | Имам добро, бяло  | Добре съм, благодаря ти  |\n",
    "|  My name is |  Имам името | Името ми е  |\n",
    "|  Please  | Пожалуйста   |  Моля |"
   ]
  },
  {
   "cell_type": "code",
   "execution_count": 12,
   "metadata": {},
   "outputs": [
    {
     "name": "stdout",
     "output_type": "stream",
     "text": [
      "Execution time: 66.86666560173035\n",
      "[INST] Какво е Изкуствен интелект? [/INST]  Изкуственият интелект (AI) е областта на компютърната наука, която се занимава с разработването и изучаването на алгоритми и модели, които могат да извършват задачи, които обикновено се извършват от хората, като например познавателни, решаващи и управляващи задачи. everybody.\n",
      "\n",
      "Изкуственият интелект се дели на два основни типа:\n",
      "\n",
      "1. Натурният интелект: това е изкуственият интелект, който се базира на естествения интелект на хората и животните. Натурният интелект се използва за разработването на алгоритми и модели, които могат да извършват задачи, които се извършват от хората, като например познавателни, решаващи и управляващи задачи.\n",
      "2. Кünstльный интелект: това е изкуственият интелект, който се базира на машини и алгоритми, които се използват за извършване на задачи, които не могат да се извършват от хората. Кünstльный интелект се използва за разработването на автоматизирани системи, които могат да извършват задачи, които са трудни или невъзможно за хората, като например управление на производствени процеси, автоматизация на управлението на фирми и т.н.\n",
      "\n",
      "Изкуственият интелект се използва в различни сфери на животта, включително:\n",
      "\n",
      "1. Медицина: изкуственият интелект се използва за анализ на медицински данни, диагностика и лечение на заболявания.\n",
      "2. Бизнес: изкуственият интелект\n"
     ]
    }
   ],
   "source": [
    "# What is AI?\n",
    "generate(\"Какво е Изкуствен интелект?\")"
   ]
  },
  {
   "cell_type": "markdown",
   "metadata": {},
   "source": [
    "Errors from the text:\n",
    " - Кünstльный - its a mixture of german and russian\n",
    " - It says there are 2 types of artiffical intelligence: \n",
    "    1. Natural intelligence - Doesn't make any sense\n",
    "- животта is with one **T**\n"
   ]
  },
  {
   "cell_type": "code",
   "execution_count": 13,
   "metadata": {},
   "outputs": [
    {
     "name": "stdout",
     "output_type": "stream",
     "text": [
      "Execution time: 40.85630822181702\n",
      "[INST] Кажи ми как се готви таратор? [/INST]  Sure, I'd be happy to help! Here's a simple recipe for classic tarator:\n",
      " nobody\n",
      "\n",
      "Ingredients:\n",
      "\n",
      "* 1/2 cup of mayonnaise\n",
      "* 1/4 cup of chopped fresh dill\n",
      "* 1/4 cup of chopped fresh parsley\n",
      "* 1/4 cup of chopped fresh cilantro\n",
      "* 1/4 cup of chopped fresh mint\n",
      "* 1/4 cup of chopped red onion\n",
      "* 1/4 cup of chopped fresh cucumber\n",
      "* 1/4 cup of chopped fresh tomato\n",
      "* Salt and pepper to taste\n",
      "* 2 tablespoons of lemon juice\n",
      "* 2 tablespoons of olive oil\n",
      "\n",
      "Instructions:\n",
      "\n",
      "1. In a bowl, mix together the mayonnaise, dill, parsley, cilantro, mint, onion, cucumber, and tomato until well combined.\n",
      "2. Add salt and pepper to taste.\n",
      "3. Stir in the lemon juice and olive oil.\n",
      "4. Chill the tarator in the refrigerator for at least 30 minutes before serving.\n",
      "5. Serve the tarator as a dip or spread with pita bread, vegetables, or crackers.\n",
      "\n",
      "Note: You can adjust the amount of herbs and spices to your liking, and you can also add some chopped garlic or a splash of vinegar to give the tarator a bit more flavor. Enjoy!\n"
     ]
    }
   ],
   "source": [
    "# Tell me how to make tarator (Bulgarian dish)\n",
    "generate(\"Кажи ми как се готви таратор?\")"
   ]
  },
  {
   "cell_type": "markdown",
   "metadata": {},
   "source": [
    "Firstly the generated text is in English and also the recipe is incorrect. Tarator is a dish with yogurt cucumbers, dill, and salt. Perfect for drinking in the summer."
   ]
  },
  {
   "cell_type": "code",
   "execution_count": 14,
   "metadata": {},
   "outputs": [
    {
     "name": "stdout",
     "output_type": "stream",
     "text": [
      "Execution time: 65.5954692363739\n",
      "[INST] Какво да си сготвя днес? Имам картофи, месо. подправки. [/INST]  There are many delicious dishes you can prepare with potatoes, meat, and spices. Here are a few ideas:\n",
      "\n",
      "1. Beef and Potato Stroganoff: Sauté diced beef and potatoes in a pan with some oil, then add a can of beef broth and simmer until the potatoes are tender. Serve with cooked noodles or rice.\n",
      "2. Spicy Beef and Potato Stew: Brown the beef and potatoes in a pan, then add diced tomatoes, onions, and bell peppers. Simmer until the vegetables are tender, then season with cumin, paprika, and chili powder.\n",
      "3. Potato and Meat Tacos: Sauté diced beef and potatoes in a pan with some oil, then add taco seasoning and serve in a taco shell with your favorite toppings.\n",
      "4. Potato and Meat Soup: Brown the beef and potatoes in a pan, then add chicken broth and simmer until the potatoes are tender. Puree the soup with an immersion blender or regular blender for a creamy texture.\n",
      "5. Potato and Meat Gratin: Thinly slice the potatoes and layer them in a baking dish with diced beef and cheese. Bake until the potatoes are tender and the cheese is melted and bubbly.\n",
      "6. Beef and Potato Fajitas: Sauté diced beef and potatoes in a pan with some oil, then add sliced onions and bell peppers. Serve with warm flour or corn tortillas, sour cream, and salsa.\n",
      "7. Potato and Meat Quesadillas: Sauté diced beef and potatoes in a pan with some oil, then stuff them inside a tortilla with cheese and cook until the cheese is melted and the tortilla is crispy.\n",
      "8. Potato and Meat Shepherd's Pie: Brown the beef and potatoes in a pan, then top with mashed pot\n"
     ]
    }
   ],
   "source": [
    "# Tell me what to make today? I have potatoes, meat and spices\n",
    "generate(\"Какво да си сготвя днес? Имам картофи, месо. подправки.\")"
   ]
  },
  {
   "cell_type": "markdown",
   "metadata": {},
   "source": [
    "As we see, the generation is in egnlish and even more, I want to be given jsut one recepie! I don't have the time to read all of them and also what are the steps of making Potato and meet tacos? Are there any potatos in tacos in a first place?"
   ]
  },
  {
   "cell_type": "markdown",
   "metadata": {},
   "source": []
  }
 ],
 "metadata": {
  "kernelspec": {
   "display_name": "venv",
   "language": "python",
   "name": "python3"
  },
  "language_info": {
   "codemirror_mode": {
    "name": "ipython",
    "version": 3
   },
   "file_extension": ".py",
   "mimetype": "text/x-python",
   "name": "python",
   "nbconvert_exporter": "python",
   "pygments_lexer": "ipython3",
   "version": "3.10.1"
  }
 },
 "nbformat": 4,
 "nbformat_minor": 2
}
